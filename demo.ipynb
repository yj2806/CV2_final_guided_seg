{
 "cells": [
  {
   "cell_type": "code",
   "execution_count": 1,
   "id": "4ff59a9f",
   "metadata": {
    "scrolled": true
   },
   "outputs": [
    {
     "name": "stdout",
     "output_type": "stream",
     "text": [
      "Constructing TOS-Net...\n",
      "#Inputs: 4\n",
      "#Classes: 4\n",
      "Output Stride: 16\n",
      "Loading from snapshot: D:/Code_pytorch/Interactive_seg/weights/models/TOSNet_epoch-49.pth\n"
     ]
    }
   ],
   "source": [
    "import os\n",
    "from collections import OrderedDict\n",
    "import tkinter as tk\n",
    "import torch\n",
    "import networks.tosnet as tosnet\n",
    "from ui.app import InteractiveDemo\n",
    "\n",
    "def preprocess():\n",
    "    \"\"\" Load networks with pre-trained weights. \"\"\"\n",
    "    # Read the configuration file\n",
    "    with open(os.path.join('weights/config.txt'), 'r') as f:\n",
    "        lines = f.read().splitlines()\n",
    "    cfg = OrderedDict()\n",
    "    for line in lines:\n",
    "        line = line.split(':')\n",
    "        if len(line) == 2:\n",
    "            arg, val = line[0], line[1]\n",
    "            cfg[arg] = val\n",
    "    \n",
    "    # Load the corresponding arguments\n",
    "    cfg['num_inputs'] = int(cfg['num_inputs'])\n",
    "    cfg['num_classes'] = int(cfg['num_classes'])\n",
    "    cfg['lr_size'] = int(cfg['lr_size'])\n",
    "    cfg['min_size'] = int(cfg['min_size'])\n",
    "    cfg['max_size'] = int(cfg['max_size'])\n",
    "    cfg['relax_crop'] = int(cfg['relax_crop'])\n",
    "    cfg['zero_pad_crop'] = True if cfg['zero_pad_crop'] == 'True' else False\n",
    "    cfg['adaptive_relax'] = True if cfg['adaptive_relax'] == 'True' else False\n",
    "\n",
    "    # Load network\n",
    "    device = torch.device('cuda')\n",
    "    tosnet.lr_size = cfg['lr_size']\n",
    "    net = tosnet.tosnet_resnet50(\n",
    "                n_inputs=cfg['num_inputs'],\n",
    "                n_classes=cfg['num_classes'],\n",
    "                os=16, pretrained=None)\n",
    "    weights = 'D:/Code_pytorch/Interactive_seg/weights/models/TOSNet_epoch-49.pth'\n",
    "    print('Loading from snapshot: {}'.format(weights))\n",
    "    net.load_state_dict(torch.load(weights, map_location=lambda storage, loc:storage))\n",
    "    net.to(device)\n",
    "    net.eval()\n",
    "\n",
    "    return net, device, cfg\n",
    "\n",
    "if __name__ == '__main__':\n",
    "    args = preprocess()\n",
    "    app = InteractiveDemo()\n",
    "    app._init_seg_model(*args)\n",
    "    app.mainloop()"
   ]
  },
  {
   "cell_type": "code",
   "execution_count": null,
   "id": "77d26b85",
   "metadata": {},
   "outputs": [],
   "source": []
  },
  {
   "cell_type": "code",
   "execution_count": null,
   "id": "450089d4",
   "metadata": {},
   "outputs": [],
   "source": []
  }
 ],
 "metadata": {
  "kernelspec": {
   "display_name": "env_py39",
   "language": "python",
   "name": "env_py39"
  },
  "language_info": {
   "codemirror_mode": {
    "name": "ipython",
    "version": 3
   },
   "file_extension": ".py",
   "mimetype": "text/x-python",
   "name": "python",
   "nbconvert_exporter": "python",
   "pygments_lexer": "ipython3",
   "version": "3.9.16"
  }
 },
 "nbformat": 4,
 "nbformat_minor": 5
}
